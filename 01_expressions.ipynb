{
  "nbformat": 4,
  "nbformat_minor": 0,
  "metadata": {
    "colab": {
      "provenance": [],
      "authorship_tag": "ABX9TyONiS3CyTwOxFcx7S/RktM7",
      "include_colab_link": true
    },
    "kernelspec": {
      "name": "python3",
      "display_name": "Python 3"
    },
    "language_info": {
      "name": "python"
    }
  },
  "cells": [
    {
      "cell_type": "markdown",
      "metadata": {
        "id": "view-in-github",
        "colab_type": "text"
      },
      "source": [
        "<a href=\"https://colab.research.google.com/github/malikjee30/python-project_4-Assagnment/blob/main/01_expressions.ipynb\" target=\"_parent\"><img src=\"https://colab.research.google.com/assets/colab-badge.svg\" alt=\"Open In Colab\"/></a>"
      ]
    },
    {
      "cell_type": "code",
      "execution_count": null,
      "metadata": {
        "colab": {
          "base_uri": "https://localhost:8080/"
        },
        "id": "4aRJatLspaiS",
        "outputId": "9ec0e9d6-2a79-45bd-b617-626bb95c29cc"
      },
      "outputs": [
        {
          "output_type": "stream",
          "name": "stdout",
          "text": [
            "01_dicesimulator\n",
            "die1 in main() start as:10\n",
            "total of two dies: 6\n",
            "total of two dies: 8\n",
            "total of two dies: 10\n",
            "die1 in main() is: 10\n"
          ]
        }
      ],
      "source": [
        "import random\n",
        "print(\"01_dicesimulator\")\n",
        "\n",
        "def roll_dice():\n",
        "  die1:int = random.randint(1,6)\n",
        "  die2:int = random.randint(1,6)\n",
        "  total:int = die1 + die2\n",
        "  print(f\"total of two dies: {total}\")\n",
        "\n",
        "def main():\n",
        "  die1:int = 10\n",
        "  print(\"die1 in main() start as:\" + str(die1))\n",
        "  roll_dice()\n",
        "  roll_dice()\n",
        "  roll_dice()\n",
        "  print(\"die1 in main() is: \" + str(die1))\n",
        "\n",
        "if __name__ == \"__main__\":\n",
        "   main()"
      ]
    },
    {
      "cell_type": "code",
      "source": [
        "print(\"02_e=mc2\")\n",
        "\n",
        "def energy():\n",
        "   c:float =  299792458\n",
        "   m:float = float(input(\"Enter kiloes of mass:\"))\n",
        "   print(\"e = m*C^2\")\n",
        "   print(\"Mass = \" + str(m) + \" kg\")\n",
        "   print(\"C = \" + str(c) + \" m/s\" )\n",
        "   print(\"e = \" + str(m * c ** 2) + \" joules\")\n",
        "\n",
        "if __name__ == \"__main__\":\n",
        "  energy()"
      ],
      "metadata": {
        "colab": {
          "base_uri": "https://localhost:8080/"
        },
        "id": "qLyvo5Kz2ZDS",
        "outputId": "2026a9da-0d62-45a2-ec9e-9fc9f6fa1ee4"
      },
      "execution_count": null,
      "outputs": [
        {
          "output_type": "stream",
          "name": "stdout",
          "text": [
            "02_e=mc2\n",
            "Enter kiloes of mass:150\n",
            "e = m*C^2\n",
            "Mass = 150.0 kg\n",
            "C = 299792458 m/s\n",
            "e = 1.3481327681052264e+19 joules\n"
          ]
        }
      ]
    },
    {
      "cell_type": "code",
      "source": [
        "print(\"03_feet_to_inches\")\n",
        "\n",
        "inch: int = 12\n",
        "\n",
        "def foot():\n",
        "  feet:int = int(input(\"Enter feet and convert to inches. \"))\n",
        "  print(f\"There are {inch * feet} Inches in {feet} feet.\")\n",
        "\n",
        "if __name__ == \"__main__\":\n",
        "  foot()\n",
        "\n"
      ],
      "metadata": {
        "id": "dfRiK6RwDZTv",
        "colab": {
          "base_uri": "https://localhost:8080/"
        },
        "outputId": "7f7d5ee8-4d55-4c83-c4b2-1648f19dbfe8"
      },
      "execution_count": null,
      "outputs": [
        {
          "output_type": "stream",
          "name": "stdout",
          "text": [
            "03_feet_to_inches\n",
            "Enter feet and convert to inches. 55\n",
            "There are 660 Inches in 55 feet.\n"
          ]
        }
      ]
    },
    {
      "cell_type": "code",
      "source": [
        "import math\n",
        "print(\"04_pythagorean_theorem\")\n",
        "\n",
        "def triangle():\n",
        "  ab:float = float(input(\"Enter the length of the side ab \"))\n",
        "  ac:float = float(input(\"Enter the length of the side ac \"))\n",
        "  bc:float = math.sqrt(ab**2 + ac**2)\n",
        "  print(f\"the length of bc (the hypothenuse is : {bc})\")\n",
        "\n",
        "if __name__ == \"__main__\":\n",
        "  triangle()"
      ],
      "metadata": {
        "colab": {
          "base_uri": "https://localhost:8080/"
        },
        "id": "yF3hsJ9fJOhl",
        "outputId": "c9368cf3-6b7e-4caf-b776-7c0723d9f0d0"
      },
      "execution_count": null,
      "outputs": [
        {
          "output_type": "stream",
          "name": "stdout",
          "text": [
            "04_pythagorean_theorem\n",
            "Enter the length of the side ab 8.9\n",
            "Enter the length of the side ac 9.8\n",
            "the length of bc (the hypothenuse is : 13.238202294873728)\n"
          ]
        }
      ]
    },
    {
      "cell_type": "code",
      "source": [
        "print(\"05_remainder_division\")\n",
        "\n",
        "def relavent():\n",
        "  num1:int = int(input(\"Enter an integer to be divided: \"))\n",
        "  num2:int = int(input(\"Enter an integer to divide by: \"))\n",
        "  quotient:int = num1 // num2\n",
        "  remainder:int = num1 % num2\n",
        "  print(f\"the result of this division is {quotient} with a remainder of {remainder}\")\n",
        "if __name__ == \"__main__\":\n",
        "  relavent()\n"
      ],
      "metadata": {
        "colab": {
          "base_uri": "https://localhost:8080/"
        },
        "id": "9JTKZtSwP6xs",
        "outputId": "3561298e-92a0-4276-ed0d-35c42e851830"
      },
      "execution_count": null,
      "outputs": [
        {
          "output_type": "stream",
          "name": "stdout",
          "text": [
            "05_remainder_division\n",
            "Enter an integer to be divided: 50\n",
            "Enter an integer to divide by: 4\n",
            "the result of this division is 12 with a remainder of 2\n"
          ]
        }
      ]
    },
    {
      "cell_type": "code",
      "source": [
        "import random\n",
        "print(\"06_rolldice\")\n",
        "\n",
        "def dice():\n",
        "  die1:int = random.randint(1,6)\n",
        "  die2:int = random.randint(1,6)\n",
        "  total:int = int(die1 + die2)\n",
        "  print(\"first die: \" + str(die1))\n",
        "  print(\"second die: \" + str(die2))\n",
        "  print(f\"Total of two dies : {total}\")\n",
        "\n",
        "if __name__ == \"__main__\":\n",
        "  dice()"
      ],
      "metadata": {
        "colab": {
          "base_uri": "https://localhost:8080/"
        },
        "id": "xhFeXt0tvVks",
        "outputId": "ecde633a-9505-4d7c-c892-71d5a747ba21"
      },
      "execution_count": null,
      "outputs": [
        {
          "output_type": "stream",
          "name": "stdout",
          "text": [
            "06_rolldice\n",
            "first die: 5\n",
            "second die: 2\n",
            "Total of two dies : 7\n"
          ]
        }
      ]
    },
    {
      "cell_type": "code",
      "source": [
        "print(\"07_seconds_in_year\")\n",
        "\n",
        "days_in_year:int = 365\n",
        "hours_per_day:int = 24\n",
        "minutes_per_hour:int = 60\n",
        "seconds_per_minute:int = 60\n",
        "\n",
        "def seconds():\n",
        "  print(f\"There are {days_in_year * hours_per_day * minutes_per_hour * seconds_per_minute} seconds in a year\")\n",
        "\n",
        "if __name__ == \"__main__\":\n",
        "  seconds()"
      ],
      "metadata": {
        "colab": {
          "base_uri": "https://localhost:8080/"
        },
        "id": "Rkq9EiXvEtOQ",
        "outputId": "cf81250a-7977-41bc-e968-66e8188b4c53"
      },
      "execution_count": null,
      "outputs": [
        {
          "output_type": "stream",
          "name": "stdout",
          "text": [
            "07_seconds_in_year\n",
            "There are 31536000 seconds in a year\n"
          ]
        }
      ]
    },
    {
      "cell_type": "code",
      "source": [
        "print(\"08_tiny_mad_lib\")\n",
        "\n",
        "def mad_lib():\n",
        "  noun:str = str(input(\"Enter a noun: \"))\n",
        "  adjective:str = str(input(\"Enter an adjective: \"))\n",
        "  verb:str = str(input(\"Enter a verb: \"))\n",
        "  adverb:str = str(input(\"Enter an adverb: \"))\n",
        "  print(f\"Do you {verb} your {adjective} {noun} {adverb}? that\\'s hilarious:\")\n",
        "\n",
        "if __name__ == \"__main__\":\n",
        "  mad_lib()"
      ],
      "metadata": {
        "colab": {
          "base_uri": "https://localhost:8080/"
        },
        "id": "5-_7GtRPJuzK",
        "outputId": "99540fc5-e7f6-40fc-ada1-45656840df40"
      },
      "execution_count": null,
      "outputs": [
        {
          "output_type": "stream",
          "name": "stdout",
          "text": [
            "08_tiny_mad_lib\n",
            "Enter a noun: cow\n",
            "Enter an adjective: cute\n",
            "Enter a verb: prince\n",
            "Enter an adverb: slave\n",
            "Do you prince your cute cow slave? that's hilarious:\n"
          ]
        }
      ]
    }
  ]
}