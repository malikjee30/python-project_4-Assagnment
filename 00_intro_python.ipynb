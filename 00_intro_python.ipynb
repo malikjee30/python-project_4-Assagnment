{
  "nbformat": 4,
  "nbformat_minor": 0,
  "metadata": {
    "colab": {
      "provenance": [],
      "authorship_tag": "ABX9TyP+oBBQQQKwhRmYQXLxWeYi",
      "include_colab_link": true
    },
    "kernelspec": {
      "name": "python3",
      "display_name": "Python 3"
    },
    "language_info": {
      "name": "python"
    }
  },
  "cells": [
    {
      "cell_type": "markdown",
      "metadata": {
        "id": "view-in-github",
        "colab_type": "text"
      },
      "source": [
        "<a href=\"https://colab.research.google.com/github/malikjee30/python-project_4-Assagnment/blob/main/00_intro_python.ipynb\" target=\"_parent\"><img src=\"https://colab.research.google.com/assets/colab-badge.svg\" alt=\"Open In Colab\"/></a>"
      ]
    },
    {
      "cell_type": "code",
      "execution_count": null,
      "metadata": {
        "colab": {
          "base_uri": "https://localhost:8080/"
        },
        "collapsed": true,
        "id": "cOOeM3cZT2lN",
        "outputId": "9a20a24f-d338-4474-e21d-3fc6d0b5d10e"
      },
      "outputs": [
        {
          "output_type": "stream",
          "name": "stdout",
          "text": [
            "01_add_two_numbers\n",
            "This application for add two numbers\n",
            "Enter your first number65\n",
            "Enter your second number35\n",
            "The total of 65 and 35 is 100\n"
          ]
        }
      ],
      "source": [
        "print('01_add_two_numbers')\n",
        "\n",
        "def add():\n",
        "  print(\"This application for add two numbers\")\n",
        "  first_number = int(input(\"Enter your first number. \"))\n",
        "  second_number = int(input(\"Enter your second number. \"))\n",
        "  total = int(first_number + second_number)\n",
        "  print(f\"The total of {first_number} and {second_number} is {total}\")\n",
        "\n",
        "if __name__ == \"__main__\":\n",
        "  add()"
      ]
    },
    {
      "cell_type": "code",
      "source": [
        "print(\"02_agreement_bot\")\n",
        "\n",
        "def bot():\n",
        "  animal = str(input(\"what their favourite animal? \"))\n",
        "  print(f\"My favourite animal is also {animal}:\")\n",
        "\n",
        "if __name__ == \"__main__\":\n",
        "   bot()"
      ],
      "metadata": {
        "colab": {
          "base_uri": "https://localhost:8080/"
        },
        "id": "ipJiPPOhbmld",
        "outputId": "727c7ac0-50c2-4727-cf31-2025590ee1e5"
      },
      "execution_count": null,
      "outputs": [
        {
          "output_type": "stream",
          "name": "stdout",
          "text": [
            "02_agreement_bot\n",
            "what their favourite animal?cow\n",
            "My favourite animal is also cow:\n"
          ]
        }
      ]
    },
    {
      "cell_type": "code",
      "source": [
        "print(\"03_fahrenheit_to_celsius\")\n",
        "\n",
        "def temp():\n",
        "  print(\"This code for converting fahrenheit to celsius\")\n",
        "  fahrenheit_degree = float(input(\"Enter your fahrenheit degree. \"))\n",
        "  celcius_degree = (fahrenheit_degree - 32) * 5.0/9.0\n",
        "  print(f\"temprature {fahrenheit_degree} F = {celcius_degree} C\")\n",
        "\n",
        "if __name__ == \"__main__\":\n",
        "   temp()\n"
      ],
      "metadata": {
        "colab": {
          "base_uri": "https://localhost:8080/"
        },
        "id": "ys-hu20rvEao",
        "outputId": "8ad7c712-ca96-4f32-f971-600656b01311"
      },
      "execution_count": null,
      "outputs": [
        {
          "output_type": "stream",
          "name": "stdout",
          "text": [
            "03_fahrenheit_to_celsius\n",
            "This code for converting fahrenheit to celsius\n",
            "Enter your fahrenheit degree. 65\n",
            "temprature 65.0 F = 18.333333333333332 C\n"
          ]
        }
      ]
    },
    {
      "cell_type": "code",
      "source": [
        "print(\"04_how_old_are_they\")\n",
        "\n",
        "def add_ages():\n",
        "  anton:int = 21\n",
        "  beth:int = anton + 6\n",
        "  chen:int = beth + 20\n",
        "  drew:int = chen + anton\n",
        "  ethan:int = chen\n",
        "\n",
        "  print(\"Anton is \" + str(anton))\n",
        "  print(\"Beth is \" + str(beth))\n",
        "  print(\"Chen is \" + str(chen))\n",
        "  print(\"Drew is \" + str(drew))\n",
        "  print(\"Ethan is \" + str(ethan))\n",
        "\n",
        "if __name__ == \"__main__\":\n",
        "  add_ages()"
      ],
      "metadata": {
        "colab": {
          "base_uri": "https://localhost:8080/"
        },
        "id": "0UDwKKuM2Y3i",
        "outputId": "ebccff00-cb8f-48df-c789-ef3a8b222096"
      },
      "execution_count": null,
      "outputs": [
        {
          "output_type": "stream",
          "name": "stdout",
          "text": [
            "04_how_old_are_they\n",
            "Anton is 21\n",
            "Beth is 27\n",
            "Chen is 47\n",
            "Drew is 68\n",
            "Ethan is 47\n"
          ]
        }
      ]
    },
    {
      "cell_type": "code",
      "source": [
        "print(\"05_triangle_perameter\")\n",
        "\n",
        "def triangle():\n",
        "  print(\"This code is about parameter of triangle \")\n",
        "  side1:float = float(input(\"Enter your 1st side no of triangle. \"))\n",
        "  side2:float = float(input(\"Enter your 2nd side no of triangle. \"))\n",
        "  side3:float = float(input(\"Enter your 3rd side no of triangle. \"))\n",
        "  total:float = float(side1 + side2 + side3)\n",
        "  print(f\"The parameter of the triangle is {side1}, {side2} and {side3} is {total}\")\n",
        "\n",
        "if __name__ == \"__main__\":\n",
        "   triangle()"
      ],
      "metadata": {
        "id": "A4pZL0l_6lTM",
        "colab": {
          "base_uri": "https://localhost:8080/"
        },
        "outputId": "686fed03-1184-43e7-bb30-aaff724ad3fa"
      },
      "execution_count": null,
      "outputs": [
        {
          "output_type": "stream",
          "name": "stdout",
          "text": [
            "05_triangle_perameter\n",
            "This code is about parameter of triangle \n",
            "Enter your 1st side no of triangle. 6\n",
            "Enter your 2nd side no of triangle. 7.5\n",
            "Enter your 3rd side no of triangle. 9\n",
            "The parameter of the triangle is 6.0, 7.5 and 9.0 is 22.5\n"
          ]
        }
      ]
    },
    {
      "cell_type": "code",
      "source": [
        "print(\"06_square_numbe\")\n",
        "\n",
        "def square():\n",
        "  print(\"This code is about square of given number\")\n",
        "  num1:int = int(input(\"Enter any number and gain a square value. \"))\n",
        "  print(f\"The square of {num1} is {num1 ** 2} \")\n",
        "\n",
        "if __name__ == \"__main__\":\n",
        "    square()\n"
      ],
      "metadata": {
        "colab": {
          "base_uri": "https://localhost:8080/"
        },
        "id": "IVa7zrWtLN4Q",
        "outputId": "ad5920a2-5f02-47a0-ec77-fccedc412c06"
      },
      "execution_count": null,
      "outputs": [
        {
          "output_type": "stream",
          "name": "stdout",
          "text": [
            "06_square_numbe\n",
            "This code is about square of given number\n",
            "Enter any number and gain a square value. 7\n",
            "The square of 7 is 49 \n"
          ]
        }
      ]
    }
  ]
}